{
 "cells": [
  {
   "cell_type": "code",
   "execution_count": null,
   "metadata": {},
   "outputs": [],
   "source": [
    "%load_ext autoreload\n",
    "%autoreload 2\n",
    "\n",
    "from pathlib import Path\n",
    "from pprint import pformat\n",
    "\n",
    "from hloc import extract_features, match_features, pairs_from_covisibility\n",
    "from hloc import colmap_from_nvm, triangulation, localize_sfm, visualization"
   ]
  },
  {
   "cell_type": "markdown",
   "metadata": {},
   "source": [
    "# Visualize  localization"
   ]
  },
  {
   "cell_type": "code",
   "execution_count": null,
   "metadata": {},
   "outputs": [],
   "source": [
    "results='/nas4/dliu/wrk/robotics/datasets/RobotLab/rlab_tr5s10_netvlad3_SfM/localized/localize_from_sfm_results.txt'\n",
    "query_images=Path('/nas4/dliu/wrk/robotics/datasets/RobotLab/rlab_tr3')\n",
    "db_images=Path('/nas4/dliu/wrk/robotics/datasets/RobotLab/rlab_tr5s10')                                                 \n",
    "reference_sfm=Path('/nas4/dliu/wrk/robotics/datasets/RobotLab/rlab_tr5s10_netvlad3_SfM/sfm_superpoint_inloc+superglue')   "
   ]
  },
  {
   "cell_type": "markdown",
   "metadata": {},
   "source": [
    "## Visualizing the localization\n",
    "We parse the localization logs and for each query image plot matches and inliers with a few database images."
   ]
  },
  {
   "cell_type": "code",
   "execution_count": null,
   "metadata": {},
   "outputs": [],
   "source": [
    "visualization.visualize_loc(\n",
    "    results, query_images, db_image_dir=db_images, sfm_model=reference_sfm / 'models/0', n=10, top_k_db=1, seed=2)"
   ]
  },
  {
   "cell_type": "code",
   "execution_count": null,
   "metadata": {},
   "outputs": [],
   "source": [
    "visualization.visualize_loc(\n",
    "    results, query_images, db_image_dir=db_images, sfm_model=reference_sfm / 'models/0', n=10, top_k_db=1, seed=32)"
   ]
  },
  {
   "cell_type": "code",
   "execution_count": null,
   "metadata": {},
   "outputs": [],
   "source": [
    "visualization.visualize_loc(\n",
    "    results, query_images, db_image_dir=db_images, sfm_model=reference_sfm / 'models/0', selected=['frame-001196.png'])"
   ]
  },
  {
   "cell_type": "code",
   "execution_count": null,
   "metadata": {},
   "outputs": [],
   "source": [
    "# d2net + NN\n",
    "results='/nas4/dliu/wrk/robotics/datasets/RobotLab/rlab_tr5s10_SfM-3/localized/localize_from_sfm_results.txt'\n",
    "query_images=Path('/nas4/dliu/wrk/robotics/datasets/RobotLab/rlab_tr3')\n",
    "db_images=Path('/nas4/dliu/wrk/robotics/datasets/RobotLab/rlab_tr5s10')                                                 \n",
    "reference_sfm=Path('/nas4/dliu/wrk/robotics/datasets/RobotLab/rlab_tr5s10_SfM-3/sfm_d2net-ss+NN')  "
   ]
  },
  {
   "cell_type": "code",
   "execution_count": null,
   "metadata": {},
   "outputs": [],
   "source": [
    "visualization.visualize_loc(\n",
    "    results, query_images, db_image_dir=db_images, sfm_model=reference_sfm / 'models/0', n=10, top_k_db=1, seed=32)"
   ]
  },
  {
   "cell_type": "code",
   "execution_count": null,
   "metadata": {},
   "outputs": [],
   "source": [
    "visualization.visualize_loc(\n",
    "    results, query_images, db_image_dir=db_images, sfm_model=reference_sfm / 'models/0', selected=['frame-001196.png'])"
   ]
  },
  {
   "cell_type": "code",
   "execution_count": null,
   "metadata": {},
   "outputs": [],
   "source": []
  }
 ],
 "metadata": {
  "kernelspec": {
   "display_name": "Python 3",
   "language": "python",
   "name": "python3"
  },
  "language_info": {
   "codemirror_mode": {
    "name": "ipython",
    "version": 3
   },
   "file_extension": ".py",
   "mimetype": "text/x-python",
   "name": "python",
   "nbconvert_exporter": "python",
   "pygments_lexer": "ipython3",
   "version": "3.7.9"
  }
 },
 "nbformat": 4,
 "nbformat_minor": 4
}
